{
  "nbformat": 4,
  "nbformat_minor": 0,
  "metadata": {
    "colab": {
      "provenance": [],
      "authorship_tag": "ABX9TyMTZPv1Ov1kCsIpR1aNfbG8",
      "include_colab_link": true
    },
    "kernelspec": {
      "name": "python3",
      "display_name": "Python 3"
    },
    "language_info": {
      "name": "python"
    }
  },
  "cells": [
    {
      "cell_type": "markdown",
      "metadata": {
        "id": "view-in-github",
        "colab_type": "text"
      },
      "source": [
        "<a href=\"https://colab.research.google.com/github/sanath95/Hangman/blob/main/Hangman.ipynb\" target=\"_parent\"><img src=\"https://colab.research.google.com/assets/colab-badge.svg\" alt=\"Open In Colab\"/></a>"
      ]
    },
    {
      "cell_type": "code",
      "execution_count": 1,
      "metadata": {
        "id": "R_mh3QQ8ZUK0"
      },
      "outputs": [],
      "source": [
        "def draw_hangman(guess):\n",
        "  if guess == 0:\n",
        "        print( \"________      \")\n",
        "        print( \"|      |      \")\n",
        "        print( \"|             \")\n",
        "        print( \"|             \")\n",
        "        print( \"|             \")\n",
        "        print( \"|             \")\n",
        "  elif guess == 1:\n",
        "        print( \"________      \")\n",
        "        print( \"|      |      \")\n",
        "        print( \"|      0      \")\n",
        "        print( \"|             \")\n",
        "        print( \"|             \")\n",
        "        print( \"|             \")\n",
        "  elif guess == 2:\n",
        "        print( \"________      \")\n",
        "        print( \"|      |      \")\n",
        "        print( \"|      0      \")\n",
        "        print( \"|     /       \")\n",
        "        print( \"|             \")\n",
        "        print( \"|             \")\n",
        "  elif guess == 3:\n",
        "        print( \"________      \")\n",
        "        print( \"|      |      \")\n",
        "        print( \"|      0      \")\n",
        "        print( \"|     /|      \")\n",
        "        print( \"|             \")\n",
        "        print( \"|             \")\n",
        "  elif guess == 4:\n",
        "        print( \"________      \")\n",
        "        print( \"|      |      \")\n",
        "        print( \"|      0      \")\n",
        "        print( \"|     /|\\     \")\n",
        "        print( \"|             \")\n",
        "        print( \"|             \")\n",
        "  elif guess == 5:\n",
        "        print( \"________      \")\n",
        "        print( \"|      |      \")\n",
        "        print( \"|      0      \")\n",
        "        print( \"|     /|\\     \")\n",
        "        print( \"|     /       \")\n",
        "        print( \"|             \")\n",
        "  else:\n",
        "        print( \"________      \")\n",
        "        print( \"|      |      \")\n",
        "        print( \"|      0      \")\n",
        "        print( \"|     /|\\     \")\n",
        "        print(\"|     / \\     \")\n",
        "        print( \"|             \")\n",
        "        print( \"GAME OVER!\")"
      ]
    },
    {
      "cell_type": "code",
      "source": [
        "def show_word(full_word, prev_word, letter):\n",
        "  new_word = \"\"\n",
        "  for m,n in zip(full_word,prev_word):\n",
        "    if letter==m:\n",
        "      new_word = new_word + m\n",
        "    else:\n",
        "      new_word = new_word + n\n",
        "\n",
        "  return new_word"
      ],
      "metadata": {
        "id": "rHstbWEtZXHZ"
      },
      "execution_count": 2,
      "outputs": []
    },
    {
      "cell_type": "code",
      "source": [
        "word = \"somerandomword\"\n",
        "word = word.lower()\n",
        "repeat = True\n",
        "wrong = 0\n",
        "guesses=\"_\"*len(word)\n",
        "print(guesses)\n",
        "guessed_letters = []\n",
        "while repeat:\n",
        "  letter = input(\"Choose a letter: \")\n",
        "  letter = letter.lower()\n",
        "  if letter in guessed_letters:\n",
        "    print(\"Letter is already guessed!\")\n",
        "    continue\n",
        "  if len(letter) != 1:\n",
        "    print(\"Please enter 1 letter!\")\n",
        "    continue\n",
        "  guessed_letters.append(letter)\n",
        "  if letter not in word:\n",
        "    draw_hangman(wrong)\n",
        "    wrong += 1\n",
        "  else:\n",
        "    guesses = show_word(word, guesses, letter)\n",
        "    print(guesses)\n",
        "    if \"_\" not in guesses:\n",
        "      print(\"YOU WON!\")\n",
        "      repeat = False\n",
        "  if wrong > 6:\n",
        "    repeat = False"
      ],
      "metadata": {
        "colab": {
          "base_uri": "https://localhost:8080/"
        },
        "id": "AF2KpDHgZYMJ",
        "outputId": "5fd77fef-7115-4cff-c806-6cb97bc29096"
      },
      "execution_count": 3,
      "outputs": [
        {
          "output_type": "stream",
          "name": "stdout",
          "text": [
            "______________\n",
            "Choose a letter: p\n",
            "________      \n",
            "|      |      \n",
            "|             \n",
            "|             \n",
            "|             \n",
            "|             \n",
            "Choose a letter: u\n",
            "________      \n",
            "|      |      \n",
            "|      0      \n",
            "|             \n",
            "|             \n",
            "|             \n",
            "Choose a letter: i\n",
            "________      \n",
            "|      |      \n",
            "|      0      \n",
            "|     /       \n",
            "|             \n",
            "|             \n",
            "Choose a letter: q\n",
            "________      \n",
            "|      |      \n",
            "|      0      \n",
            "|     /|      \n",
            "|             \n",
            "|             \n",
            "Choose a letter: z\n",
            "________      \n",
            "|      |      \n",
            "|      0      \n",
            "|     /|\\     \n",
            "|             \n",
            "|             \n",
            "Choose a letter: \n",
            "Please enter 1 letter!\n",
            "Choose a letter: c\n",
            "________      \n",
            "|      |      \n",
            "|      0      \n",
            "|     /|\\     \n",
            "|     /       \n",
            "|             \n",
            "Choose a letter: x\n",
            "________      \n",
            "|      |      \n",
            "|      0      \n",
            "|     /|\\     \n",
            "|     / \\     \n",
            "|             \n",
            "GAME OVER!\n"
          ]
        }
      ]
    },
    {
      "cell_type": "code",
      "source": [],
      "metadata": {
        "id": "urr5dFEiZZIY"
      },
      "execution_count": null,
      "outputs": []
    }
  ]
}